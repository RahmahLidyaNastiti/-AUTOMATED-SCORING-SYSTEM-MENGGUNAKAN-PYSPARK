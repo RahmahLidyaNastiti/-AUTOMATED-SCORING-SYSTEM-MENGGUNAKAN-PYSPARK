{
  "cells": [
    {
      "cell_type": "code",
      "execution_count": 1,
      "metadata": {
        "colab": {
          "base_uri": "https://localhost:8080/"
        },
        "id": "bA3DZouctdHt",
        "outputId": "332b85cd-99cf-4c6b-ce7b-a969229cf01d"
      },
      "outputs": [
        {
          "output_type": "stream",
          "name": "stdout",
          "text": [
            "Collecting pyspark\n",
            "  Downloading pyspark-3.5.1.tar.gz (317.0 MB)\n",
            "\u001b[2K     \u001b[90m━━━━━━━━━━━━━━━━━━━━━━━━━━━━━━━━━━━━━━━━\u001b[0m \u001b[32m317.0/317.0 MB\u001b[0m \u001b[31m3.8 MB/s\u001b[0m eta \u001b[36m0:00:00\u001b[0m\n",
            "\u001b[?25h  Preparing metadata (setup.py) ... \u001b[?25l\u001b[?25hdone\n",
            "Requirement already satisfied: py4j==0.10.9.7 in /usr/local/lib/python3.10/dist-packages (from pyspark) (0.10.9.7)\n",
            "Building wheels for collected packages: pyspark\n",
            "  Building wheel for pyspark (setup.py) ... \u001b[?25l\u001b[?25hdone\n",
            "  Created wheel for pyspark: filename=pyspark-3.5.1-py2.py3-none-any.whl size=317488491 sha256=0887fb97dab832000e702c39a71029096aa74c72b4b684265e4b42b57a9aedfc\n",
            "  Stored in directory: /root/.cache/pip/wheels/80/1d/60/2c256ed38dddce2fdd93be545214a63e02fbd8d74fb0b7f3a6\n",
            "Successfully built pyspark\n",
            "Installing collected packages: pyspark\n",
            "Successfully installed pyspark-3.5.1\n",
            "Collecting install-jdk\n",
            "  Downloading install_jdk-1.1.0-py3-none-any.whl (15 kB)\n",
            "Installing collected packages: install-jdk\n",
            "Successfully installed install-jdk-1.1.0\n"
          ]
        }
      ],
      "source": [
        "!pip install pyspark\n",
        "!pip install install-jdk"
      ]
    },
    {
      "cell_type": "code",
      "execution_count": 2,
      "metadata": {
        "id": "d4FFG3wKt2ze"
      },
      "outputs": [],
      "source": [
        "from pyspark.sql import SparkSession\n",
        "from pyspark.sql.types import *\n",
        "from pyspark.sql.functions import *\n",
        "from pyspark.ml.feature import HashingTF, Tokenizer, StopWordsRemover, IDF\n",
        "from pyspark.ml import Pipeline\n",
        "from pyspark.ml.recommendation import ALS\n",
        "from pyspark.ml.evaluation import RegressionEvaluator\n",
        "\n",
        "#membuat session\n",
        "appName = 'Automated Scoring Using pySpark'\n",
        "spark = SparkSession \\\n",
        "        .builder \\\n",
        "        .appName(appName) \\\n",
        "        .config('spark.some.config.option','some-value') \\\n",
        "        .getOrCreate()"
      ]
    },
    {
      "cell_type": "code",
      "execution_count": 3,
      "metadata": {
        "colab": {
          "base_uri": "https://localhost:8080/",
          "height": 423
        },
        "id": "2-9UIqtJt8Dp",
        "outputId": "37c5acef-0280-4a3e-86fa-dc0c1182d7c0"
      },
      "outputs": [
        {
          "output_type": "execute_result",
          "data": {
            "text/plain": [
              "            npm nama_peserta  \\\n",
              "0             0        Admin   \n",
              "1             0        Admin   \n",
              "2             0        Admin   \n",
              "3             0        Admin   \n",
              "4             0        Admin   \n",
              "..          ...          ...   \n",
              "115  1121020035           BS   \n",
              "116  1121020035           BS   \n",
              "117  1121020035           BS   \n",
              "118  1121020035           BS   \n",
              "119  1121020035           BS   \n",
              "\n",
              "                                               jawaban  soal  skor_per_soal  \n",
              "0    Tidak, Hanya membutuhkan satu karena satu soft...     1         100.00  \n",
              "1    Biaya dihitung berdasarkan waktu pengerjaan da...     2         100.00  \n",
              "2    Hak cipta adalah hak eksklusif bagi pencipta a...     3         100.00  \n",
              "3    Dijelaskan kepada klien jika huruf terlalu bes...     4         100.00  \n",
              "4    1. Melindungi dan menjamin pekerja atas hak ke...     5         100.00  \n",
              "..                                                 ...   ...            ...  \n",
              "115  posisi kepala dan leher harus tegak lurus deng...     8          48.41  \n",
              "116  kecocokan software camera dengan system hardwa...     9          65.89  \n",
              "117  okus dan exposure dipertimbangkan dalam operas...    10          48.51  \n",
              "118  peralatan yang dibutuhkan untuk transfer image...    11          78.41  \n",
              "119  dibuat grafik yang menggunakan prinsip desain ...    12          64.29  \n",
              "\n",
              "[120 rows x 5 columns]"
            ],
            "text/html": [
              "\n",
              "  <div id=\"df-5fed2509-a91c-42e8-b29d-aa4b94eb2e95\" class=\"colab-df-container\">\n",
              "    <div>\n",
              "<style scoped>\n",
              "    .dataframe tbody tr th:only-of-type {\n",
              "        vertical-align: middle;\n",
              "    }\n",
              "\n",
              "    .dataframe tbody tr th {\n",
              "        vertical-align: top;\n",
              "    }\n",
              "\n",
              "    .dataframe thead th {\n",
              "        text-align: right;\n",
              "    }\n",
              "</style>\n",
              "<table border=\"1\" class=\"dataframe\">\n",
              "  <thead>\n",
              "    <tr style=\"text-align: right;\">\n",
              "      <th></th>\n",
              "      <th>npm</th>\n",
              "      <th>nama_peserta</th>\n",
              "      <th>jawaban</th>\n",
              "      <th>soal</th>\n",
              "      <th>skor_per_soal</th>\n",
              "    </tr>\n",
              "  </thead>\n",
              "  <tbody>\n",
              "    <tr>\n",
              "      <th>0</th>\n",
              "      <td>0</td>\n",
              "      <td>Admin</td>\n",
              "      <td>Tidak, Hanya membutuhkan satu karena satu soft...</td>\n",
              "      <td>1</td>\n",
              "      <td>100.00</td>\n",
              "    </tr>\n",
              "    <tr>\n",
              "      <th>1</th>\n",
              "      <td>0</td>\n",
              "      <td>Admin</td>\n",
              "      <td>Biaya dihitung berdasarkan waktu pengerjaan da...</td>\n",
              "      <td>2</td>\n",
              "      <td>100.00</td>\n",
              "    </tr>\n",
              "    <tr>\n",
              "      <th>2</th>\n",
              "      <td>0</td>\n",
              "      <td>Admin</td>\n",
              "      <td>Hak cipta adalah hak eksklusif bagi pencipta a...</td>\n",
              "      <td>3</td>\n",
              "      <td>100.00</td>\n",
              "    </tr>\n",
              "    <tr>\n",
              "      <th>3</th>\n",
              "      <td>0</td>\n",
              "      <td>Admin</td>\n",
              "      <td>Dijelaskan kepada klien jika huruf terlalu bes...</td>\n",
              "      <td>4</td>\n",
              "      <td>100.00</td>\n",
              "    </tr>\n",
              "    <tr>\n",
              "      <th>4</th>\n",
              "      <td>0</td>\n",
              "      <td>Admin</td>\n",
              "      <td>1. Melindungi dan menjamin pekerja atas hak ke...</td>\n",
              "      <td>5</td>\n",
              "      <td>100.00</td>\n",
              "    </tr>\n",
              "    <tr>\n",
              "      <th>...</th>\n",
              "      <td>...</td>\n",
              "      <td>...</td>\n",
              "      <td>...</td>\n",
              "      <td>...</td>\n",
              "      <td>...</td>\n",
              "    </tr>\n",
              "    <tr>\n",
              "      <th>115</th>\n",
              "      <td>1121020035</td>\n",
              "      <td>BS</td>\n",
              "      <td>posisi kepala dan leher harus tegak lurus deng...</td>\n",
              "      <td>8</td>\n",
              "      <td>48.41</td>\n",
              "    </tr>\n",
              "    <tr>\n",
              "      <th>116</th>\n",
              "      <td>1121020035</td>\n",
              "      <td>BS</td>\n",
              "      <td>kecocokan software camera dengan system hardwa...</td>\n",
              "      <td>9</td>\n",
              "      <td>65.89</td>\n",
              "    </tr>\n",
              "    <tr>\n",
              "      <th>117</th>\n",
              "      <td>1121020035</td>\n",
              "      <td>BS</td>\n",
              "      <td>okus dan exposure dipertimbangkan dalam operas...</td>\n",
              "      <td>10</td>\n",
              "      <td>48.51</td>\n",
              "    </tr>\n",
              "    <tr>\n",
              "      <th>118</th>\n",
              "      <td>1121020035</td>\n",
              "      <td>BS</td>\n",
              "      <td>peralatan yang dibutuhkan untuk transfer image...</td>\n",
              "      <td>11</td>\n",
              "      <td>78.41</td>\n",
              "    </tr>\n",
              "    <tr>\n",
              "      <th>119</th>\n",
              "      <td>1121020035</td>\n",
              "      <td>BS</td>\n",
              "      <td>dibuat grafik yang menggunakan prinsip desain ...</td>\n",
              "      <td>12</td>\n",
              "      <td>64.29</td>\n",
              "    </tr>\n",
              "  </tbody>\n",
              "</table>\n",
              "<p>120 rows × 5 columns</p>\n",
              "</div>\n",
              "    <div class=\"colab-df-buttons\">\n",
              "\n",
              "  <div class=\"colab-df-container\">\n",
              "    <button class=\"colab-df-convert\" onclick=\"convertToInteractive('df-5fed2509-a91c-42e8-b29d-aa4b94eb2e95')\"\n",
              "            title=\"Convert this dataframe to an interactive table.\"\n",
              "            style=\"display:none;\">\n",
              "\n",
              "  <svg xmlns=\"http://www.w3.org/2000/svg\" height=\"24px\" viewBox=\"0 -960 960 960\">\n",
              "    <path d=\"M120-120v-720h720v720H120Zm60-500h600v-160H180v160Zm220 220h160v-160H400v160Zm0 220h160v-160H400v160ZM180-400h160v-160H180v160Zm440 0h160v-160H620v160ZM180-180h160v-160H180v160Zm440 0h160v-160H620v160Z\"/>\n",
              "  </svg>\n",
              "    </button>\n",
              "\n",
              "  <style>\n",
              "    .colab-df-container {\n",
              "      display:flex;\n",
              "      gap: 12px;\n",
              "    }\n",
              "\n",
              "    .colab-df-convert {\n",
              "      background-color: #E8F0FE;\n",
              "      border: none;\n",
              "      border-radius: 50%;\n",
              "      cursor: pointer;\n",
              "      display: none;\n",
              "      fill: #1967D2;\n",
              "      height: 32px;\n",
              "      padding: 0 0 0 0;\n",
              "      width: 32px;\n",
              "    }\n",
              "\n",
              "    .colab-df-convert:hover {\n",
              "      background-color: #E2EBFA;\n",
              "      box-shadow: 0px 1px 2px rgba(60, 64, 67, 0.3), 0px 1px 3px 1px rgba(60, 64, 67, 0.15);\n",
              "      fill: #174EA6;\n",
              "    }\n",
              "\n",
              "    .colab-df-buttons div {\n",
              "      margin-bottom: 4px;\n",
              "    }\n",
              "\n",
              "    [theme=dark] .colab-df-convert {\n",
              "      background-color: #3B4455;\n",
              "      fill: #D2E3FC;\n",
              "    }\n",
              "\n",
              "    [theme=dark] .colab-df-convert:hover {\n",
              "      background-color: #434B5C;\n",
              "      box-shadow: 0px 1px 3px 1px rgba(0, 0, 0, 0.15);\n",
              "      filter: drop-shadow(0px 1px 2px rgba(0, 0, 0, 0.3));\n",
              "      fill: #FFFFFF;\n",
              "    }\n",
              "  </style>\n",
              "\n",
              "    <script>\n",
              "      const buttonEl =\n",
              "        document.querySelector('#df-5fed2509-a91c-42e8-b29d-aa4b94eb2e95 button.colab-df-convert');\n",
              "      buttonEl.style.display =\n",
              "        google.colab.kernel.accessAllowed ? 'block' : 'none';\n",
              "\n",
              "      async function convertToInteractive(key) {\n",
              "        const element = document.querySelector('#df-5fed2509-a91c-42e8-b29d-aa4b94eb2e95');\n",
              "        const dataTable =\n",
              "          await google.colab.kernel.invokeFunction('convertToInteractive',\n",
              "                                                    [key], {});\n",
              "        if (!dataTable) return;\n",
              "\n",
              "        const docLinkHtml = 'Like what you see? Visit the ' +\n",
              "          '<a target=\"_blank\" href=https://colab.research.google.com/notebooks/data_table.ipynb>data table notebook</a>'\n",
              "          + ' to learn more about interactive tables.';\n",
              "        element.innerHTML = '';\n",
              "        dataTable['output_type'] = 'display_data';\n",
              "        await google.colab.output.renderOutput(dataTable, element);\n",
              "        const docLink = document.createElement('div');\n",
              "        docLink.innerHTML = docLinkHtml;\n",
              "        element.appendChild(docLink);\n",
              "      }\n",
              "    </script>\n",
              "  </div>\n",
              "\n",
              "\n",
              "<div id=\"df-6666a39e-2789-4609-b341-56cd8b306912\">\n",
              "  <button class=\"colab-df-quickchart\" onclick=\"quickchart('df-6666a39e-2789-4609-b341-56cd8b306912')\"\n",
              "            title=\"Suggest charts\"\n",
              "            style=\"display:none;\">\n",
              "\n",
              "<svg xmlns=\"http://www.w3.org/2000/svg\" height=\"24px\"viewBox=\"0 0 24 24\"\n",
              "     width=\"24px\">\n",
              "    <g>\n",
              "        <path d=\"M19 3H5c-1.1 0-2 .9-2 2v14c0 1.1.9 2 2 2h14c1.1 0 2-.9 2-2V5c0-1.1-.9-2-2-2zM9 17H7v-7h2v7zm4 0h-2V7h2v10zm4 0h-2v-4h2v4z\"/>\n",
              "    </g>\n",
              "</svg>\n",
              "  </button>\n",
              "\n",
              "<style>\n",
              "  .colab-df-quickchart {\n",
              "      --bg-color: #E8F0FE;\n",
              "      --fill-color: #1967D2;\n",
              "      --hover-bg-color: #E2EBFA;\n",
              "      --hover-fill-color: #174EA6;\n",
              "      --disabled-fill-color: #AAA;\n",
              "      --disabled-bg-color: #DDD;\n",
              "  }\n",
              "\n",
              "  [theme=dark] .colab-df-quickchart {\n",
              "      --bg-color: #3B4455;\n",
              "      --fill-color: #D2E3FC;\n",
              "      --hover-bg-color: #434B5C;\n",
              "      --hover-fill-color: #FFFFFF;\n",
              "      --disabled-bg-color: #3B4455;\n",
              "      --disabled-fill-color: #666;\n",
              "  }\n",
              "\n",
              "  .colab-df-quickchart {\n",
              "    background-color: var(--bg-color);\n",
              "    border: none;\n",
              "    border-radius: 50%;\n",
              "    cursor: pointer;\n",
              "    display: none;\n",
              "    fill: var(--fill-color);\n",
              "    height: 32px;\n",
              "    padding: 0;\n",
              "    width: 32px;\n",
              "  }\n",
              "\n",
              "  .colab-df-quickchart:hover {\n",
              "    background-color: var(--hover-bg-color);\n",
              "    box-shadow: 0 1px 2px rgba(60, 64, 67, 0.3), 0 1px 3px 1px rgba(60, 64, 67, 0.15);\n",
              "    fill: var(--button-hover-fill-color);\n",
              "  }\n",
              "\n",
              "  .colab-df-quickchart-complete:disabled,\n",
              "  .colab-df-quickchart-complete:disabled:hover {\n",
              "    background-color: var(--disabled-bg-color);\n",
              "    fill: var(--disabled-fill-color);\n",
              "    box-shadow: none;\n",
              "  }\n",
              "\n",
              "  .colab-df-spinner {\n",
              "    border: 2px solid var(--fill-color);\n",
              "    border-color: transparent;\n",
              "    border-bottom-color: var(--fill-color);\n",
              "    animation:\n",
              "      spin 1s steps(1) infinite;\n",
              "  }\n",
              "\n",
              "  @keyframes spin {\n",
              "    0% {\n",
              "      border-color: transparent;\n",
              "      border-bottom-color: var(--fill-color);\n",
              "      border-left-color: var(--fill-color);\n",
              "    }\n",
              "    20% {\n",
              "      border-color: transparent;\n",
              "      border-left-color: var(--fill-color);\n",
              "      border-top-color: var(--fill-color);\n",
              "    }\n",
              "    30% {\n",
              "      border-color: transparent;\n",
              "      border-left-color: var(--fill-color);\n",
              "      border-top-color: var(--fill-color);\n",
              "      border-right-color: var(--fill-color);\n",
              "    }\n",
              "    40% {\n",
              "      border-color: transparent;\n",
              "      border-right-color: var(--fill-color);\n",
              "      border-top-color: var(--fill-color);\n",
              "    }\n",
              "    60% {\n",
              "      border-color: transparent;\n",
              "      border-right-color: var(--fill-color);\n",
              "    }\n",
              "    80% {\n",
              "      border-color: transparent;\n",
              "      border-right-color: var(--fill-color);\n",
              "      border-bottom-color: var(--fill-color);\n",
              "    }\n",
              "    90% {\n",
              "      border-color: transparent;\n",
              "      border-bottom-color: var(--fill-color);\n",
              "    }\n",
              "  }\n",
              "</style>\n",
              "\n",
              "  <script>\n",
              "    async function quickchart(key) {\n",
              "      const quickchartButtonEl =\n",
              "        document.querySelector('#' + key + ' button');\n",
              "      quickchartButtonEl.disabled = true;  // To prevent multiple clicks.\n",
              "      quickchartButtonEl.classList.add('colab-df-spinner');\n",
              "      try {\n",
              "        const charts = await google.colab.kernel.invokeFunction(\n",
              "            'suggestCharts', [key], {});\n",
              "      } catch (error) {\n",
              "        console.error('Error during call to suggestCharts:', error);\n",
              "      }\n",
              "      quickchartButtonEl.classList.remove('colab-df-spinner');\n",
              "      quickchartButtonEl.classList.add('colab-df-quickchart-complete');\n",
              "    }\n",
              "    (() => {\n",
              "      let quickchartButtonEl =\n",
              "        document.querySelector('#df-6666a39e-2789-4609-b341-56cd8b306912 button');\n",
              "      quickchartButtonEl.style.display =\n",
              "        google.colab.kernel.accessAllowed ? 'block' : 'none';\n",
              "    })();\n",
              "  </script>\n",
              "</div>\n",
              "    </div>\n",
              "  </div>\n"
            ],
            "application/vnd.google.colaboratory.intrinsic+json": {
              "type": "dataframe",
              "variable_name": "auto_score",
              "summary": "{\n  \"name\": \"auto_score\",\n  \"rows\": 120,\n  \"fields\": [\n    {\n      \"column\": \"npm\",\n      \"properties\": {\n        \"dtype\": \"number\",\n        \"std\": 350465346,\n        \"min\": 0,\n        \"max\": 1220020029,\n        \"num_unique_values\": 10,\n        \"samples\": [\n          1121020036,\n          1121020033,\n          1120020017\n        ],\n        \"semantic_type\": \"\",\n        \"description\": \"\"\n      }\n    },\n    {\n      \"column\": \"nama_peserta\",\n      \"properties\": {\n        \"dtype\": \"category\",\n        \"num_unique_values\": 11,\n        \"samples\": [\n          \"DRP\",\n          \"Admin\",\n          \"DAR\"\n        ],\n        \"semantic_type\": \"\",\n        \"description\": \"\"\n      }\n    },\n    {\n      \"column\": \"jawaban\",\n      \"properties\": {\n        \"dtype\": \"string\",\n        \"num_unique_values\": 78,\n        \"samples\": [\n          \"dibuat grafik yang menggunakan prinsip desain visual dengan menggunakan software yang sudah disiapkan untuk menghasilkan grafik bitmap atau vector dan digital artwork. 2. teknik digital artwork 2d termasuk penggunaan dengan tepat untuk painting, editing dan pallets digunakan. 3. digital collages and montages dibuat dengan cara menyesuaikan image mode and resolusion, modifikasi gambar menggunakan filter dan memilih colour mode yang tepat untuk output.\",\n          \"Tidak, Hanya membutuhkan satu karena satu software sesuai dengan keahlian\",\n          \"dijelaskan kepada klien jika huruf terlalu besar maka kita tidak dapat memasukkan cukup banyak kata pada setiap baris agar pembaca lebih nyaman.\"\n        ],\n        \"semantic_type\": \"\",\n        \"description\": \"\"\n      }\n    },\n    {\n      \"column\": \"soal\",\n      \"properties\": {\n        \"dtype\": \"number\",\n        \"std\": 3,\n        \"min\": 1,\n        \"max\": 12,\n        \"num_unique_values\": 12,\n        \"samples\": [\n          11,\n          10,\n          1\n        ],\n        \"semantic_type\": \"\",\n        \"description\": \"\"\n      }\n    },\n    {\n      \"column\": \"skor_per_soal\",\n      \"properties\": {\n        \"dtype\": \"number\",\n        \"std\": 19.023813998449917,\n        \"min\": 26.73,\n        \"max\": 100.0,\n        \"num_unique_values\": 53,\n        \"samples\": [\n          81.06,\n          76.06,\n          78.52\n        ],\n        \"semantic_type\": \"\",\n        \"description\": \"\"\n      }\n    }\n  ]\n}"
            }
          },
          "metadata": {},
          "execution_count": 3
        }
      ],
      "source": [
        "import pandas as pd\n",
        "auto_score = pd.read_excel(\"/content/drive/MyDrive/training_data_essay.xlsx\")\n",
        "auto_score"
      ]
    },
    {
      "cell_type": "code",
      "execution_count": 4,
      "metadata": {
        "colab": {
          "base_uri": "https://localhost:8080/"
        },
        "id": "zw2xPct6vbsx",
        "outputId": "66f86c18-ab1f-47e0-c4db-07e81465aa28"
      },
      "outputs": [
        {
          "output_type": "stream",
          "name": "stdout",
          "text": [
            "+----+--------------------+-------------+\n",
            "|soal|             jawaban|skor_per_soal|\n",
            "+----+--------------------+-------------+\n",
            "|   1|Tidak, Hanya memb...|        100.0|\n",
            "|   2|Biaya dihitung be...|        100.0|\n",
            "|   3|Hak cipta adalah ...|        100.0|\n",
            "|   4|Dijelaskan kepada...|        100.0|\n",
            "|   5|1. Melindungi dan...|        100.0|\n",
            "|   6|Ruang Komputer, P...|        100.0|\n",
            "|   7|Aturlah posisi pe...|        100.0|\n",
            "|   8|Posisi Kepala dan...|        100.0|\n",
            "|   9|1. Kecocokan soft...|        100.0|\n",
            "|  10|1. Fokus dan expo...|        100.0|\n",
            "|  11|1. Peralatan yang...|        100.0|\n",
            "|  12|1. Dibuat grafik ...|        100.0|\n",
            "|   1|tidak, cuma mengi...|         52.7|\n",
            "|   2|biaya dihitung be...|        42.86|\n",
            "|   3|hak membuat merup...|        42.16|\n",
            "|   4|dipaparkan pada k...|        27.19|\n",
            "|   5|1. mencegah serta...|        44.14|\n",
            "|   6|ruang komputer, p...|        100.0|\n",
            "|   7|aturlah posisi fi...|        57.68|\n",
            "|   8|posisi kepala ser...|        45.71|\n",
            "+----+--------------------+-------------+\n",
            "only showing top 20 rows\n",
            "\n"
          ]
        }
      ],
      "source": [
        "df = spark.createDataFrame(auto_score)\n",
        "df = df.select('soal', 'jawaban', 'skor_per_soal')\n",
        "df.show()\n"
      ]
    },
    {
      "cell_type": "code",
      "execution_count": 5,
      "metadata": {
        "colab": {
          "base_uri": "https://localhost:8080/"
        },
        "id": "enRsvgzNv4Q4",
        "outputId": "2983cdeb-e50d-420f-9855-4549c69dfa5d"
      },
      "outputs": [
        {
          "output_type": "stream",
          "name": "stdout",
          "text": [
            "+----+--------------------+-------------+--------------------+\n",
            "|soal|             jawaban|skor_per_soal|          jawaban_v2|\n",
            "+----+--------------------+-------------+--------------------+\n",
            "|   1|Tidak, Hanya memb...|        100.0|Tidak Hanya membu...|\n",
            "|   2|Biaya dihitung be...|        100.0|Biaya dihitung be...|\n",
            "|   3|Hak cipta adalah ...|        100.0|Hak cipta adalah ...|\n",
            "|   4|Dijelaskan kepada...|        100.0|Dijelaskan kepada...|\n",
            "|   5|1. Melindungi dan...|        100.0| Melindungi dan m...|\n",
            "|   6|Ruang Komputer, P...|        100.0|Ruang Komputer Po...|\n",
            "|   7|Aturlah posisi pe...|        100.0|Aturlah posisi pe...|\n",
            "|   8|Posisi Kepala dan...|        100.0|Posisi Kepala dan...|\n",
            "|   9|1. Kecocokan soft...|        100.0| Kecocokan softwa...|\n",
            "|  10|1. Fokus dan expo...|        100.0| Fokus dan exposu...|\n",
            "|  11|1. Peralatan yang...|        100.0| Peralatan yang d...|\n",
            "|  12|1. Dibuat grafik ...|        100.0| Dibuat grafik ya...|\n",
            "|   1|tidak, cuma mengi...|         52.7|tidak cuma mengin...|\n",
            "|   2|biaya dihitung be...|        42.86|biaya dihitung be...|\n",
            "|   3|hak membuat merup...|        42.16|hak membuat merup...|\n",
            "|   4|dipaparkan pada k...|        27.19|dipaparkan pada k...|\n",
            "|   5|1. mencegah serta...|        44.14| mencegah serta m...|\n",
            "|   6|ruang komputer, p...|        100.0|ruang komputer po...|\n",
            "|   7|aturlah posisi fi...|        57.68|aturlah posisi fi...|\n",
            "|   8|posisi kepala ser...|        45.71|posisi kepala ser...|\n",
            "+----+--------------------+-------------+--------------------+\n",
            "only showing top 20 rows\n",
            "\n"
          ]
        }
      ],
      "source": [
        "regex_pattern = '[^a-zA-Z\\\\s]+|\\\\d+'\n",
        "cleanningTrain = df.withColumn('jawaban_v2', regexp_replace('jawaban', regex_pattern,''))\n",
        "cleanningTrain.show()"
      ]
    },
    {
      "cell_type": "code",
      "execution_count": 6,
      "metadata": {
        "colab": {
          "base_uri": "https://localhost:8080/"
        },
        "id": "oV75rxK1w_YK",
        "outputId": "393c6b0b-0e64-4ea1-f40a-ab1378910dbd"
      },
      "outputs": [
        {
          "output_type": "stream",
          "name": "stdout",
          "text": [
            "+----+--------------------+-------------+--------------------+--------------------+\n",
            "|soal|             jawaban|skor_per_soal|          jawaban_v2|    Tokenize_jawaban|\n",
            "+----+--------------------+-------------+--------------------+--------------------+\n",
            "|   1|Tidak, Hanya memb...|        100.0|Tidak Hanya membu...|[tidak, hanya, me...|\n",
            "|   2|Biaya dihitung be...|        100.0|Biaya dihitung be...|[biaya, dihitung,...|\n",
            "|   3|Hak cipta adalah ...|        100.0|Hak cipta adalah ...|[hak, cipta, adal...|\n",
            "|   4|Dijelaskan kepada...|        100.0|Dijelaskan kepada...|[dijelaskan, kepa...|\n",
            "|   5|1. Melindungi dan...|        100.0| Melindungi dan m...|[, melindungi, da...|\n",
            "|   6|Ruang Komputer, P...|        100.0|Ruang Komputer Po...|[ruang, komputer,...|\n",
            "|   7|Aturlah posisi pe...|        100.0|Aturlah posisi pe...|[aturlah, posisi,...|\n",
            "|   8|Posisi Kepala dan...|        100.0|Posisi Kepala dan...|[posisi, kepala, ...|\n",
            "|   9|1. Kecocokan soft...|        100.0| Kecocokan softwa...|[, kecocokan, sof...|\n",
            "|  10|1. Fokus dan expo...|        100.0| Fokus dan exposu...|[, fokus, dan, ex...|\n",
            "|  11|1. Peralatan yang...|        100.0| Peralatan yang d...|[, peralatan, yan...|\n",
            "|  12|1. Dibuat grafik ...|        100.0| Dibuat grafik ya...|[, dibuat, grafik...|\n",
            "|   1|tidak, cuma mengi...|         52.7|tidak cuma mengin...|[tidak, cuma, men...|\n",
            "|   2|biaya dihitung be...|        42.86|biaya dihitung be...|[biaya, dihitung,...|\n",
            "|   3|hak membuat merup...|        42.16|hak membuat merup...|[hak, membuat, me...|\n",
            "|   4|dipaparkan pada k...|        27.19|dipaparkan pada k...|[dipaparkan, pada...|\n",
            "|   5|1. mencegah serta...|        44.14| mencegah serta m...|[, mencegah, sert...|\n",
            "|   6|ruang komputer, p...|        100.0|ruang komputer po...|[ruang, komputer,...|\n",
            "|   7|aturlah posisi fi...|        57.68|aturlah posisi fi...|[aturlah, posisi,...|\n",
            "|   8|posisi kepala ser...|        45.71|posisi kepala ser...|[posisi, kepala, ...|\n",
            "+----+--------------------+-------------+--------------------+--------------------+\n",
            "only showing top 20 rows\n",
            "\n"
          ]
        }
      ],
      "source": [
        "tokenizer = Tokenizer(inputCol = 'jawaban_v2', outputCol = 'Tokenize_jawaban')\n",
        "tokenizedTrain = tokenizer.transform(cleanningTrain)\n",
        "tokenizedTrain.show()"
      ]
    },
    {
      "cell_type": "code",
      "execution_count": 7,
      "metadata": {
        "colab": {
          "base_uri": "https://localhost:8080/"
        },
        "id": "CW5uQijIW6hV",
        "outputId": "5276d8e9-e67b-473d-e08b-123b23b2c47d"
      },
      "outputs": [
        {
          "output_type": "stream",
          "name": "stdout",
          "text": [
            "+----+--------------------+-------------+--------------------+--------------------+--------------------+\n",
            "|soal|             jawaban|skor_per_soal|          jawaban_v2|    Tokenize_jawaban|       kata_bermakna|\n",
            "+----+--------------------+-------------+--------------------+--------------------+--------------------+\n",
            "|   1|Tidak, Hanya memb...|        100.0|Tidak Hanya membu...|[tidak, hanya, me...|[membutuhkan, sof...|\n",
            "|   2|Biaya dihitung be...|        100.0|Biaya dihitung be...|[biaya, dihitung,...|[biaya, dihitung,...|\n",
            "|   3|Hak cipta adalah ...|        100.0|Hak cipta adalah ...|[hak, cipta, adal...|[hak, cipta, hak,...|\n",
            "|   4|Dijelaskan kepada...|        100.0|Dijelaskan kepada...|[dijelaskan, kepa...|[klien, huruf, me...|\n",
            "|   5|1. Melindungi dan...|        100.0| Melindungi dan m...|[, melindungi, da...|[, melindungi, me...|\n",
            "|   6|Ruang Komputer, P...|        100.0|Ruang Komputer Po...|[ruang, komputer,...|[ruang, komputer,...|\n",
            "|   7|Aturlah posisi pe...|        100.0|Aturlah posisi pe...|[aturlah, posisi,...|[aturlah, posisi,...|\n",
            "|   8|Posisi Kepala dan...|        100.0|Posisi Kepala dan...|[posisi, kepala, ...|[posisi, kepala, ...|\n",
            "|   9|1. Kecocokan soft...|        100.0| Kecocokan softwa...|[, kecocokan, sof...|[, kecocokan, sof...|\n",
            "|  10|1. Fokus dan expo...|        100.0| Fokus dan exposu...|[, fokus, dan, ex...|[, fokus, exposur...|\n",
            "|  11|1. Peralatan yang...|        100.0| Peralatan yang d...|[, peralatan, yan...|[, peralatan, dib...|\n",
            "|  12|1. Dibuat grafik ...|        100.0| Dibuat grafik ya...|[, dibuat, grafik...|[, grafik, prinsi...|\n",
            "|   1|tidak, cuma mengi...|         52.7|tidak cuma mengin...|[tidak, cuma, men...|[aplikasi, cocok,...|\n",
            "|   2|biaya dihitung be...|        42.86|biaya dihitung be...|[biaya, dihitung,...|[biaya, dihitung,...|\n",
            "|   3|hak membuat merup...|        42.16|hak membuat merup...|[hak, membuat, me...|[hak, hak, khusus...|\n",
            "|   4|dipaparkan pada k...|        27.19|dipaparkan pada k...|[dipaparkan, pada...|[dipaparkan, kons...|\n",
            "|   5|1. mencegah serta...|        44.14| mencegah serta m...|[, mencegah, sert...|[, mencegah, menj...|\n",
            "|   6|ruang komputer, p...|        100.0|ruang komputer po...|[ruang, komputer,...|[ruang, komputer,...|\n",
            "|   7|aturlah posisi fi...|        57.68|aturlah posisi fi...|[aturlah, posisi,...|[aturlah, posisi,...|\n",
            "|   8|posisi kepala ser...|        45.71|posisi kepala ser...|[posisi, kepala, ...|[posisi, kepala, ...|\n",
            "+----+--------------------+-------------+--------------------+--------------------+--------------------+\n",
            "only showing top 20 rows\n",
            "\n"
          ]
        }
      ],
      "source": [
        "from pyspark.ml.feature import StopWordsRemover\n",
        "\n",
        "# Read the stopwords from the file\n",
        "with open('/content/drive/MyDrive/id.stopwords.02.01.2016.txt') as f:\n",
        "    stopwords = f.read().splitlines()\n",
        "\n",
        "# Initialize the StopWordsRemover without the stopwords\n",
        "stopword_remover = StopWordsRemover(inputCol='Tokenize_jawaban', outputCol='kata_bermakna')\n",
        "\n",
        "# Set the custom stopwords\n",
        "stopword_remover = stopword_remover.setStopWords(stopwords)\n",
        "\n",
        "# Apply the stopword remover to the DataFrame\n",
        "SwRemovedTrain = stopword_remover.transform(tokenizedTrain)\n",
        "SwRemovedTrain.show()\n"
      ]
    },
    {
      "cell_type": "code",
      "execution_count": 8,
      "metadata": {
        "colab": {
          "base_uri": "https://localhost:8080/"
        },
        "id": "DykYkofIQPAy",
        "outputId": "0997f02f-b4f9-48de-a38f-03c7860cde35"
      },
      "outputs": [
        {
          "output_type": "stream",
          "name": "stdout",
          "text": [
            "+----+--------------------+-------------+--------------------+--------------------+--------------------+-----------+\n",
            "|soal|             jawaban|skor_per_soal|          jawaban_v2|    Tokenize_jawaban|       kata_bermakna| hash_value|\n",
            "+----+--------------------+-------------+--------------------+--------------------+--------------------+-----------+\n",
            "|   1|Tidak, Hanya memb...|        100.0|Tidak Hanya membu...|[tidak, hanya, me...|[membutuhkan, sof...|-1678823266|\n",
            "|   2|Biaya dihitung be...|        100.0|Biaya dihitung be...|[biaya, dihitung,...|[biaya, dihitung,...|  868079823|\n",
            "|   3|Hak cipta adalah ...|        100.0|Hak cipta adalah ...|[hak, cipta, adal...|[hak, cipta, hak,...| 1708817134|\n",
            "|   4|Dijelaskan kepada...|        100.0|Dijelaskan kepada...|[dijelaskan, kepa...|[klien, huruf, me...| 1377676868|\n",
            "|   5|1. Melindungi dan...|        100.0| Melindungi dan m...|[, melindungi, da...|[, melindungi, me...| 1706744332|\n",
            "|   6|Ruang Komputer, P...|        100.0|Ruang Komputer Po...|[ruang, komputer,...|[ruang, komputer,...|  829849610|\n",
            "|   7|Aturlah posisi pe...|        100.0|Aturlah posisi pe...|[aturlah, posisi,...|[aturlah, posisi,...| 1915460745|\n",
            "|   8|Posisi Kepala dan...|        100.0|Posisi Kepala dan...|[posisi, kepala, ...|[posisi, kepala, ...|-1861440661|\n",
            "|   9|1. Kecocokan soft...|        100.0| Kecocokan softwa...|[, kecocokan, sof...|[, kecocokan, sof...|-2081253499|\n",
            "|  10|1. Fokus dan expo...|        100.0| Fokus dan exposu...|[, fokus, dan, ex...|[, fokus, exposur...|-1238323704|\n",
            "|  11|1. Peralatan yang...|        100.0| Peralatan yang d...|[, peralatan, yan...|[, peralatan, dib...| -521292198|\n",
            "|  12|1. Dibuat grafik ...|        100.0| Dibuat grafik ya...|[, dibuat, grafik...|[, grafik, prinsi...|  481493723|\n",
            "|   1|tidak, cuma mengi...|         52.7|tidak cuma mengin...|[tidak, cuma, men...|[aplikasi, cocok,...|   53244348|\n",
            "|   2|biaya dihitung be...|        42.86|biaya dihitung be...|[biaya, dihitung,...|[biaya, dihitung,...|  144185811|\n",
            "|   3|hak membuat merup...|        42.16|hak membuat merup...|[hak, membuat, me...|[hak, hak, khusus...| 1755600807|\n",
            "|   4|dipaparkan pada k...|        27.19|dipaparkan pada k...|[dipaparkan, pada...|[dipaparkan, kons...| -247777938|\n",
            "|   5|1. mencegah serta...|        44.14| mencegah serta m...|[, mencegah, sert...|[, mencegah, menj...| 1658505624|\n",
            "|   6|ruang komputer, p...|        100.0|ruang komputer po...|[ruang, komputer,...|[ruang, komputer,...|  829849610|\n",
            "|   7|aturlah posisi fi...|        57.68|aturlah posisi fi...|[aturlah, posisi,...|[aturlah, posisi,...|-1781587908|\n",
            "|   8|posisi kepala ser...|        45.71|posisi kepala ser...|[posisi, kepala, ...|[posisi, kepala, ...|  106718928|\n",
            "+----+--------------------+-------------+--------------------+--------------------+--------------------+-----------+\n",
            "only showing top 20 rows\n",
            "\n"
          ]
        }
      ],
      "source": [
        "hash = SwRemovedTrain.withColumn('hash_value', hash('kata_bermakna'))\n",
        "hash.show()"
      ]
    },
    {
      "cell_type": "code",
      "execution_count": 9,
      "metadata": {
        "id": "d52u7tbzQiIi"
      },
      "outputs": [],
      "source": [
        "split = hash.randomSplit([0.7, 0.3])\n",
        "train = split[0].withColumnRenamed('skor_per_soal', 'skor')\n",
        "test = split[1].withColumnRenamed('skor_per_soal', 'true_skor')"
      ]
    },
    {
      "cell_type": "code",
      "execution_count": 10,
      "metadata": {
        "colab": {
          "base_uri": "https://localhost:8080/"
        },
        "id": "7CMXaqrKRItU",
        "outputId": "f5249023-0b92-4109-dfea-5c3bca485d1e"
      },
      "outputs": [
        {
          "output_type": "stream",
          "name": "stdout",
          "text": [
            "data training 82\n",
            "data testing 38\n"
          ]
        }
      ],
      "source": [
        "row_train = train.count()\n",
        "row_test = test.count()\n",
        "print('data training', row_train)\n",
        "print('data testing', row_test)"
      ]
    },
    {
      "cell_type": "code",
      "execution_count": 11,
      "metadata": {
        "colab": {
          "base_uri": "https://localhost:8080/"
        },
        "id": "d7Ol7I6ERj9J",
        "outputId": "93be49e5-ca64-4701-bef0-6fbd58fee40e"
      },
      "outputs": [
        {
          "output_type": "stream",
          "name": "stdout",
          "text": [
            "+----+--------------------+-----+--------------------+--------------------+--------------------+-----------+\n",
            "|soal|             jawaban| skor|          jawaban_v2|    Tokenize_jawaban|       kata_bermakna| hash_value|\n",
            "+----+--------------------+-----+--------------------+--------------------+--------------------+-----------+\n",
            "|   1|tidak, cuma mengi...| 52.7|tidak cuma mengin...|[tidak, cuma, men...|[aplikasi, cocok,...|   53244348|\n",
            "|   1|tidak, hanya memb...|100.0|tidak hanya membu...|[tidak, hanya, me...|[membutuhkan, sof...|-1678823266|\n",
            "|   1|tidak, hanya memb...|100.0|tidak hanya membu...|[tidak, hanya, me...|[membutuhkan, sof...|-1678823266|\n",
            "|   1|tidak, hanya memb...|100.0|tidak hanya membu...|[tidak, hanya, me...|[membutuhkan, sof...|-1678823266|\n",
            "|   2|Biaya dihitung be...|100.0|Biaya dihitung be...|[biaya, dihitung,...|[biaya, dihitung,...|  868079823|\n",
            "|   2|biaya dihitung be...|100.0|biaya dihitung be...|[biaya, dihitung,...|[biaya, dihitung,...|  868079823|\n",
            "|   2|biaya dihitung be...|100.0|biaya dihitung be...|[biaya, dihitung,...|[biaya, dihitung,...|  868079823|\n",
            "|   2|biaya dihitung be...|42.86|biaya dihitung be...|[biaya, dihitung,...|[biaya, dihitung,...|  144185811|\n",
            "|   3|Hak cipta adalah ...|100.0|Hak cipta adalah ...|[hak, cipta, adal...|[hak, cipta, hak,...| 1708817134|\n",
            "|   3|hak cipta adalah ...|91.71|hak cipta adalah ...|[hak, cipta, adal...|[hak, cipta, hak,...| -348474399|\n",
            "|   3|hak cipta adalah ...|91.71|hak cipta adalah ...|[hak, cipta, adal...|[hak, cipta, hak,...| -348474399|\n",
            "|   3|hak membuat merup...|42.16|hak membuat merup...|[hak, membuat, me...|[hak, hak, khusus...| 1755600807|\n",
            "|   4|Dijelaskan kepada...|100.0|Dijelaskan kepada...|[dijelaskan, kepa...|[klien, huruf, me...| 1377676868|\n",
            "|   4|dijelaskan kepada...|72.06|dijelaskan kepada...|[dijelaskan, kepa...|[klien, huruf, me...|  636521394|\n",
            "|   4|dipaparkan pada k...|27.19|dipaparkan pada k...|[dipaparkan, pada...|[dipaparkan, kons...| -247777938|\n",
            "|   5|1. Melindungi dan...|100.0| Melindungi dan m...|[, melindungi, da...|[, melindungi, me...| 1706744332|\n",
            "|   5|melindungi dan me...|74.73|melindungi dan me...|[melindungi, dan,...|[melindungi, menj...| 1972997189|\n",
            "|   5|melindungi dan me...|74.73|melindungi dan me...|[melindungi, dan,...|[melindungi, menj...| 1972997189|\n",
            "|   6|ruang komputer, p...|100.0|ruang komputer po...|[ruang, komputer,...|[ruang, komputer,...|  829849610|\n",
            "|   6|ruang komputer, p...|100.0|ruang komputer po...|[ruang, komputer,...|[ruang, komputer,...|  829849610|\n",
            "+----+--------------------+-----+--------------------+--------------------+--------------------+-----------+\n",
            "only showing top 20 rows\n",
            "\n"
          ]
        }
      ],
      "source": [
        "train.show()\n"
      ]
    },
    {
      "cell_type": "code",
      "execution_count": 12,
      "metadata": {
        "colab": {
          "base_uri": "https://localhost:8080/"
        },
        "id": "E4bL4GCmRodF",
        "outputId": "5f4927b0-d992-4295-d9ed-69f7a30efeaf"
      },
      "outputs": [
        {
          "output_type": "stream",
          "name": "stdout",
          "text": [
            "+----+--------------------+---------+--------------------+--------------------+--------------------+-----------+\n",
            "|soal|             jawaban|true_skor|          jawaban_v2|    Tokenize_jawaban|       kata_bermakna| hash_value|\n",
            "+----+--------------------+---------+--------------------+--------------------+--------------------+-----------+\n",
            "|   1|Tidak, Hanya memb...|    100.0|Tidak Hanya membu...|[tidak, hanya, me...|[membutuhkan, sof...|-1678823266|\n",
            "|   2|biaya dihitung be...|    100.0|biaya dihitung be...|[biaya, dihitung,...|[biaya, dihitung,...|  868079823|\n",
            "|   3|hak cipta adalah ...|    91.71|hak cipta adalah ...|[hak, cipta, adal...|[hak, cipta, hak,...| -348474399|\n",
            "|   4|dijelaskan kepada...|    72.06|dijelaskan kepada...|[dijelaskan, kepa...|[klien, huruf, me...|  636521394|\n",
            "|   4|dijelaskan kepada...|    72.06|dijelaskan kepada...|[dijelaskan, kepa...|[klien, huruf, me...|  636521394|\n",
            "|   5|1. mencegah serta...|    44.14| mencegah serta m...|[, mencegah, sert...|[, mencegah, menj...| 1658505624|\n",
            "|   5|melindungi dan me...|    90.27|melindungi dan me...|[melindungi, dan,...|[melindungi, menj...|-1211017882|\n",
            "|   6|Ruang Komputer, P...|    100.0|Ruang Komputer Po...|[ruang, komputer,...|[ruang, komputer,...|  829849610|\n",
            "|   6|ruang komputer, p...|    100.0|ruang komputer po...|[ruang, komputer,...|[ruang, komputer,...|  829849610|\n",
            "|   6|ruang komputer, p...|    100.0|ruang komputer po...|[ruang, komputer,...|[ruang, komputer,...|  829849610|\n",
            "|   7|aturlah posisi pe...|    86.22|aturlah posisi pe...|[aturlah, posisi,...|[aturlah, posisi,...|-1894676254|\n",
            "|   7|aturlah posisi pe...|    86.22|aturlah posisi pe...|[aturlah, posisi,...|[aturlah, posisi,...|-1894676254|\n",
            "|   9|1. Kecocokan soft...|    100.0| Kecocokan softwa...|[, kecocokan, sof...|[, kecocokan, sof...|-2081253499|\n",
            "|   9|kecocokan softwar...|    65.89|kecocokan softwar...|[kecocokan, softw...|[kecocokan, softw...| 1900032256|\n",
            "|  10|fokus dan exposur...|    100.0|fokus dan exposur...|[fokus, dan, expo...|[fokus, exposure,...|-2119091795|\n",
            "|  11|1. Peralatan yang...|    100.0| Peralatan yang d...|[, peralatan, yan...|[, peralatan, dib...| -521292198|\n",
            "|  11|peralatan yang di...|    77.63|peralatan yang di...|[peralatan, yang,...|[peralatan, dibut...|-1374699892|\n",
            "|  11|peralatan yang di...|    100.0|peralatan yang di...|[peralatan, yang,...|[peralatan, dibut...| -383074426|\n",
            "|  12|1. Dibuat grafik ...|    100.0| Dibuat grafik ya...|[, dibuat, grafik...|[, grafik, prinsi...|  481493723|\n",
            "|   1|tidak, hanya memb...|    100.0|tidak hanya membu...|[tidak, hanya, me...|[membutuhkan, sof...|-1678823266|\n",
            "+----+--------------------+---------+--------------------+--------------------+--------------------+-----------+\n",
            "only showing top 20 rows\n",
            "\n"
          ]
        }
      ],
      "source": [
        "test.show()"
      ]
    },
    {
      "cell_type": "code",
      "execution_count": 13,
      "metadata": {
        "id": "KjpGQE5tRreF"
      },
      "outputs": [],
      "source": [
        "als = ALS(maxIter = 5, regParam = 0.01, userCol = 'hash_value', itemCol = 'soal', ratingCol = 'skor')\n",
        "model = als.fit(train)"
      ]
    },
    {
      "cell_type": "code",
      "execution_count": 14,
      "metadata": {
        "id": "7CXVFDFlSH3N"
      },
      "outputs": [],
      "source": [
        "prediction = model.transform(test)"
      ]
    },
    {
      "cell_type": "code",
      "execution_count": 15,
      "metadata": {
        "colab": {
          "base_uri": "https://localhost:8080/"
        },
        "id": "s39P70aOSM4l",
        "outputId": "4d1357a8-839f-4c13-a0f0-4f4b94a2fa0a"
      },
      "outputs": [
        {
          "output_type": "stream",
          "name": "stdout",
          "text": [
            "+----+-----------+---------+----------+\n",
            "|soal| hash_value|true_skor|prediction|\n",
            "+----+-----------+---------+----------+\n",
            "|  12|-1557371155|    64.29|  64.28996|\n",
            "|  12|  481493723|    100.0|       NaN|\n",
            "|   1|-1678823266|    100.0|  99.99991|\n",
            "|   1|-1678823266|    100.0|  99.99991|\n",
            "|   6|  829849610|    100.0|  99.99992|\n",
            "|   3| -348474399|    91.71|  91.70997|\n",
            "|   5|-1211017882|    90.27|       NaN|\n",
            "|   9|-2081253499|    100.0|       NaN|\n",
            "|   9| -720994262|    84.88|  84.87993|\n",
            "|   4|  636521394|    72.06|  72.63663|\n",
            "|   4|  636521394|    72.06|  72.63663|\n",
            "|   4|  636521394|    72.06|  72.63663|\n",
            "|   8|-1861440661|    100.0|  99.99996|\n",
            "|   7|-1894676254|    86.22|  86.21996|\n",
            "|   7|-1894676254|    86.22|  86.21996|\n",
            "|   7|-1894676254|    86.22|  86.21996|\n",
            "|   7|  624824635|    59.87|       NaN|\n",
            "|  10|-2119091795|    100.0|       NaN|\n",
            "|  11|-1374699892|    77.63|       NaN|\n",
            "|  11| -521292198|    100.0|       NaN|\n",
            "+----+-----------+---------+----------+\n",
            "only showing top 20 rows\n",
            "\n"
          ]
        }
      ],
      "source": [
        "prediction.select('soal', 'hash_value', 'true_skor', 'prediction').show()"
      ]
    },
    {
      "cell_type": "code",
      "execution_count": 16,
      "metadata": {
        "colab": {
          "base_uri": "https://localhost:8080/"
        },
        "id": "QfljSPYdYJfE",
        "outputId": "1b52de9f-d2fc-4b6f-e36f-71c12ef4ac93"
      },
      "outputs": [
        {
          "output_type": "stream",
          "name": "stdout",
          "text": [
            "Root Mean Square Error (RMSE): nan\n"
          ]
        }
      ],
      "source": [
        "evaluator = RegressionEvaluator(metricName='rmse', labelCol='true_skor', predictionCol='prediction')\n",
        "rmse = evaluator.evaluate(prediction)\n",
        "print('Root Mean Square Error (RMSE):', rmse)\n"
      ]
    },
    {
      "cell_type": "code",
      "execution_count": 17,
      "metadata": {
        "colab": {
          "base_uri": "https://localhost:8080/"
        },
        "id": "FGT84my9YNib",
        "outputId": "7b961428-aa60-4b71-9a5a-e3666d385ee6"
      },
      "outputs": [
        {
          "output_type": "stream",
          "name": "stdout",
          "text": [
            " Mean Square Error (RMSE): nan\n"
          ]
        }
      ],
      "source": [
        "\n",
        "evaluator = RegressionEvaluator(metricName='rmse', labelCol='true_skor', predictionCol='prediction')\n",
        "\n",
        "# Evaluate the predictions\n",
        "mse = evaluator.evaluate(prediction)\n",
        "\n",
        "# Print the RMSE\n",
        "print(' Mean Square Error (RMSE):', mse)\n"
      ]
    },
    {
      "cell_type": "code",
      "execution_count": 18,
      "metadata": {
        "colab": {
          "base_uri": "https://localhost:8080/"
        },
        "id": "9HxAoMlxS9yh",
        "outputId": "657a6e7d-8462-45af-99c8-dbf49abd0eb3"
      },
      "outputs": [
        {
          "output_type": "stream",
          "name": "stdout",
          "text": [
            "sebelum missing value dihapus: 38 baris\n",
            "setelah missing value dihapus: 26 baris\n",
            "missing value: 12 baris\n"
          ]
        }
      ],
      "source": [
        "prediction.count()\n",
        "a = prediction.count()\n",
        "print('sebelum missing value dihapus:', a,'baris')\n",
        "cleanPred = prediction.dropna(how = 'any', subset = ['prediction'])\n",
        "b = cleanPred.count()\n",
        "print('setelah missing value dihapus:', b, 'baris')\n",
        "print('missing value:', a-b, 'baris')"
      ]
    },
    {
      "cell_type": "code",
      "execution_count": 19,
      "metadata": {
        "colab": {
          "base_uri": "https://localhost:8080/"
        },
        "id": "nTP3WPEbUjbA",
        "outputId": "ed588816-43dc-48d0-890e-f76d41e01ff4"
      },
      "outputs": [
        {
          "output_type": "stream",
          "name": "stdout",
          "text": [
            "Mean Squared Error (MSE): 0.19587052775507344\n"
          ]
        }
      ],
      "source": [
        "mse = evaluator.evaluate(cleanPred)\n",
        "\n",
        "# Print the MSE\n",
        "print('Mean Squared Error (MSE):', mse)"
      ]
    },
    {
      "cell_type": "code",
      "execution_count": 20,
      "metadata": {
        "colab": {
          "base_uri": "https://localhost:8080/"
        },
        "id": "11nsStweUuXk",
        "outputId": "839e9b49-a0f3-40c4-e0c5-81cdb9ca8490"
      },
      "outputs": [
        {
          "output_type": "stream",
          "name": "stdout",
          "text": [
            "root mean squard error: 0.19587052775507344\n"
          ]
        }
      ],
      "source": [
        "rmse = evaluator.evaluate(cleanPred)\n",
        "print('root mean squard error:', rmse)"
      ]
    },
    {
      "cell_type": "code",
      "execution_count": null,
      "metadata": {
        "id": "nFH7-CogZNUX"
      },
      "outputs": [],
      "source": []
    }
  ],
  "metadata": {
    "colab": {
      "provenance": []
    },
    "kernelspec": {
      "display_name": "Python 3",
      "name": "python3"
    },
    "language_info": {
      "name": "python"
    }
  },
  "nbformat": 4,
  "nbformat_minor": 0
}